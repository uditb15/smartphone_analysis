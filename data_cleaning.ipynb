{
 "cells": [
  {
   "cell_type": "code",
   "execution_count": null,
   "metadata": {},
   "outputs": [],
   "source": [
    "# import pandas as pd\n",
    "import numpy as np\n",
    "import missingno as msno\n",
    "import janitor\n",
    "import dataprep as dp\n",
    "import plotly.express as px\n",
    "import matplotlib.pyplot as plt\n",
    "import seaborn as sns"
   ]
  },
  {
   "cell_type": "code",
   "execution_count": null,
   "metadata": {},
   "outputs": [],
   "source": [
    "import pandas as pd\n",
    "data=pd.read_csv(r\"C:\\Users\\uditb\\Downloads\\smartphones\\mobiles_raw.csv\")\n",
    "data.head(5)"
   ]
  },
  {
   "cell_type": "code",
   "execution_count": null,
   "metadata": {},
   "outputs": [],
   "source": [
    "cols_to_drop=[\n",
    "    \"parent_url\",\"description\",\"box_content\", \"model_num\",\"sims\",\"sims_hybrid\",\"otg\",\"sound_enhance\", \"disp_res_type\",\n",
    "    \"disp_type\",\"disp_cols\", \"cpu_type\", \"cpu_clock_2\", \"mem_slot\",\n",
    "    \"cam_prim_feat\",\"cam_opt_zoom\", \"cam_secd_feat\", \"cam_flash\",\"zoom\",\"cam_fps\",\n",
    "    \"musb\",\"infrared\",\"sim_size\",\"user_intf\",\"disp_ppi\",\"sensors\",\"tones\",\"gps_type\",\"radio\", \n",
    "    \"bat_type\",\"dim_width\",\"dim_height\",\"dim_depth\",\"warranty\",\"model_colour\",\"cpu_clock_1\",\n",
    "    \"storage_exp\"\n",
    "    ]\n",
    "len(cols_to_drop)"
   ]
  },
  {
   "cell_type": "code",
   "execution_count": null,
   "metadata": {},
   "outputs": [],
   "source": [
    "data.drop(columns=cols_to_drop,inplace=True)"
   ]
  },
  {
   "cell_type": "code",
   "execution_count": null,
   "metadata": {},
   "outputs": [],
   "source": [
    "data.head()"
   ]
  },
  {
   "cell_type": "code",
   "execution_count": null,
   "metadata": {},
   "outputs": [],
   "source": [
    "## since there are alot of NA values in discount and marked_price_inr we will rely on price_inr\n",
    "# for our analysis\n",
    "print(data['discount'].isna().sum())\n",
    "print(data['price_inr'].isna().sum())\n",
    "print(data['marked_price_inr'].isna().sum())"
   ]
  },
  {
   "cell_type": "code",
   "execution_count": null,
   "metadata": {},
   "outputs": [],
   "source": [
    "data.info()"
   ]
  },
  {
   "cell_type": "code",
   "execution_count": null,
   "metadata": {},
   "outputs": [],
   "source": [
    "# data.memory_usage(deep=True)"
   ]
  },
  {
   "cell_type": "markdown",
   "metadata": {},
   "source": [
    "### price_inr and marked_price_inr"
   ]
  },
  {
   "cell_type": "code",
   "execution_count": null,
   "metadata": {},
   "outputs": [],
   "source": [
    "## removing Rupee Symbol and , from price columns\n",
    "data['price_inr']=data['price_inr'].str.replace(\"₹\",\"\").str.replace(\",\",\"\")\n",
    "data['marked_price_inr']=data['marked_price_inr'].str.replace(\"₹\",\"\").str.replace(\",\",\"\")"
   ]
  },
  {
   "cell_type": "markdown",
   "metadata": {},
   "source": [
    "## Creating an Indepth Report of Missing Data"
   ]
  },
  {
   "cell_type": "code",
   "execution_count": null,
   "metadata": {},
   "outputs": [],
   "source": [
    "from dataprep.eda.missing import plot_missing\n",
    "report=plot_missing(data)\n",
    "report"
   ]
  },
  {
   "cell_type": "code",
   "execution_count": null,
   "metadata": {},
   "outputs": [],
   "source": [
    "report.save(\"data_missing_report_no_cleaning.html\")"
   ]
  },
  {
   "cell_type": "code",
   "execution_count": null,
   "metadata": {},
   "outputs": [],
   "source": [
    "## we will drop duplicates. Mostly we see duplicates as different colors of the same phone\n",
    "print(data[data.duplicated()].shape)\n",
    "data[data.duplicated()].head()"
   ]
  },
  {
   "cell_type": "code",
   "execution_count": null,
   "metadata": {},
   "outputs": [],
   "source": [
    "data.drop_duplicates(keep=\"first\",inplace=True)"
   ]
  },
  {
   "cell_type": "code",
   "execution_count": null,
   "metadata": {},
   "outputs": [],
   "source": [
    "# we had 6983 rows and are left with 6924 rows after removing duplicates\n",
    "data.shape"
   ]
  },
  {
   "cell_type": "code",
   "execution_count": null,
   "metadata": {},
   "outputs": [],
   "source": [
    "# checking rows where all values are missing\n",
    "data[data.isna().all(axis=1)]"
   ]
  },
  {
   "cell_type": "code",
   "execution_count": null,
   "metadata": {},
   "outputs": [],
   "source": [
    "## here all three columns price_inr, marked_price_inr and discount values are NA we will drop them\n",
    "price_missing_index=data.query(\"price_inr.isna()&marked_price_inr.isna()&discount.isna()\").index\n",
    "data=data.drop(index=price_missing_index)\n",
    "data.head()"
   ]
  },
  {
   "cell_type": "code",
   "execution_count": null,
   "metadata": {},
   "outputs": [],
   "source": [
    "## changing price to an integer\n",
    "data['price_inr']=data['price_inr'].astype(\"int\")"
   ]
  },
  {
   "cell_type": "markdown",
   "metadata": {},
   "source": [
    "# Data Cleaning"
   ]
  },
  {
   "cell_type": "code",
   "execution_count": null,
   "metadata": {},
   "outputs": [],
   "source": [
    "# we can see in name column contains other characteristics like color, storage, RAM. We will extract the name only and store it\n",
    "data['name']=data['name'].str.lower().str.split(\"(\").str.get(0)\n",
    "data.head()"
   ]
  },
  {
   "cell_type": "code",
   "execution_count": null,
   "metadata": {},
   "outputs": [],
   "source": [
    "data.drop(columns=['marked_price_inr','discount'],inplace=True)\n",
    "data.head()"
   ]
  },
  {
   "cell_type": "markdown",
   "metadata": {},
   "source": [
    "### stars"
   ]
  },
  {
   "cell_type": "code",
   "execution_count": null,
   "metadata": {},
   "outputs": [],
   "source": [
    "data.stars.isna().sum()"
   ]
  },
  {
   "cell_type": "code",
   "execution_count": null,
   "metadata": {},
   "outputs": [],
   "source": [
    "data['stars']=data['stars'].astype(\"float\")"
   ]
  },
  {
   "cell_type": "code",
   "execution_count": null,
   "metadata": {},
   "outputs": [],
   "source": [
    "data.rating_count.isna().sum()"
   ]
  },
  {
   "cell_type": "code",
   "execution_count": null,
   "metadata": {},
   "outputs": [],
   "source": [
    "data.review_count.isna().sum()"
   ]
  },
  {
   "cell_type": "code",
   "execution_count": null,
   "metadata": {},
   "outputs": [],
   "source": [
    "data.drop(columns=['review_count','model_name'],axis=1,inplace=True)"
   ]
  },
  {
   "cell_type": "markdown",
   "metadata": {},
   "source": [
    "### rating_count"
   ]
  },
  {
   "cell_type": "code",
   "execution_count": null,
   "metadata": {},
   "outputs": [],
   "source": [
    "data['rating_count']"
   ]
  },
  {
   "cell_type": "code",
   "execution_count": null,
   "metadata": {},
   "outputs": [],
   "source": [
    "data['rating_count'].isna().sum()"
   ]
  },
  {
   "cell_type": "code",
   "execution_count": null,
   "metadata": {},
   "outputs": [],
   "source": [
    "# cleaning this columns\n",
    "data['rating_count']=(\n",
    "    data['rating_count']\n",
    "    .str.lower()\n",
    "    .str.split(\" \")\n",
    "    .str.get(0)\n",
    "    .str.replace(\",\",'')\n",
    ")"
   ]
  },
  {
   "cell_type": "code",
   "execution_count": null,
   "metadata": {},
   "outputs": [],
   "source": [
    "data['rating_count']"
   ]
  },
  {
   "cell_type": "code",
   "execution_count": null,
   "metadata": {},
   "outputs": [],
   "source": [
    "# from tabulate import tabulate\n",
    "# markdown_table = tabulate(data['rating_count'],tablefmt='pipe',)\n",
    "# markdown_table"
   ]
  },
  {
   "cell_type": "code",
   "execution_count": null,
   "metadata": {},
   "outputs": [],
   "source": [
    "data['rating_count']=data['rating_count'].astype('float')"
   ]
  },
  {
   "cell_type": "markdown",
   "metadata": {},
   "source": [
    "### quick_charge"
   ]
  },
  {
   "cell_type": "code",
   "execution_count": null,
   "metadata": {},
   "outputs": [],
   "source": [
    "#quick charge has alot of missing values\n",
    "data['quick_charge'].value_counts(dropna=False)"
   ]
  },
  {
   "cell_type": "code",
   "execution_count": null,
   "metadata": {},
   "outputs": [],
   "source": [
    "## Random Text values in quick charge column\n",
    "vals_to_fix=[4218,4219,4222,4223]\n",
    "temp_df=data.loc[vals_to_fix,:]\n",
    "temp_df"
   ]
  },
  {
   "cell_type": "code",
   "execution_count": null,
   "metadata": {},
   "outputs": [],
   "source": [
    "## if the column contained quick charge for these I replace them as Yes\n",
    "temp_df.loc[temp_df['quick_charge'].str.contains(\"Quick Charging\", na=False,case=False), 'quick_charge']=\"Yes\""
   ]
  },
  {
   "cell_type": "code",
   "execution_count": null,
   "metadata": {},
   "outputs": [],
   "source": [
    "## here I replaced the values in the original data with the values assigned above\n",
    "data.loc[temp_df.index,'quick_charge']=temp_df['quick_charge'].values"
   ]
  },
  {
   "cell_type": "code",
   "execution_count": null,
   "metadata": {},
   "outputs": [],
   "source": [
    "data ['quick_charge'] = (\n",
    "    data ['quick_charge'].str.lower().map (\n",
    "        { 'yes' :1,\n",
    "        'no' :0 }\n",
    "    )\n",
    ")"
   ]
  },
  {
   "cell_type": "code",
   "execution_count": null,
   "metadata": {},
   "outputs": [],
   "source": [
    "data['quick_charge'].value_counts(dropna=False)"
   ]
  },
  {
   "cell_type": "markdown",
   "metadata": {},
   "source": [
    "### disp_size"
   ]
  },
  {
   "cell_type": "code",
   "execution_count": null,
   "metadata": {},
   "outputs": [],
   "source": [
    "data['disp_size']"
   ]
  },
  {
   "cell_type": "code",
   "execution_count": null,
   "metadata": {},
   "outputs": [],
   "source": [
    "## this extracts screen size inside parenthesis and removes the inches word to give us a float number value we can use\n",
    "data['disp_size']=data['disp_size'].str.extract(r'\\(([\\d.]+) inch\\)')[0]"
   ]
  },
  {
   "cell_type": "code",
   "execution_count": null,
   "metadata": {},
   "outputs": [],
   "source": [
    "data['disp_size'].isna().sum()"
   ]
  },
  {
   "cell_type": "code",
   "execution_count": null,
   "metadata": {},
   "outputs": [],
   "source": [
    "data['disp_size']=data['disp_size'].astype(\"float\")"
   ]
  },
  {
   "cell_type": "code",
   "execution_count": null,
   "metadata": {},
   "outputs": [],
   "source": [
    "data['disp_size']"
   ]
  },
  {
   "cell_type": "markdown",
   "metadata": {},
   "source": [
    "### disp_res"
   ]
  },
  {
   "cell_type": "code",
   "execution_count": null,
   "metadata": {},
   "outputs": [],
   "source": [
    "data['disp_res'].sample(10)"
   ]
  },
  {
   "cell_type": "code",
   "execution_count": null,
   "metadata": {},
   "outputs": [],
   "source": [
    "# first step is to remove text Pixels\n",
    "disp_res=(\n",
    "    data['disp_res']\n",
    "    .str.lower()\n",
    "    .str.replace(r'Pixels?', '', regex=True,case=False)\n",
    ")\n",
    "disp_res"
   ]
  },
  {
   "cell_type": "code",
   "execution_count": null,
   "metadata": {},
   "outputs": [],
   "source": [
    "# this first uses regex to find and replace special characters at the end and removes them. \n",
    "data['disp_res']=(\n",
    "    disp_res\n",
    "    .str.replace(r'\\D+', ' x ', regex=True)\n",
    "    .str.replace(r'\\s*x\\s*$', '', regex=True)\n",
    ")"
   ]
  },
  {
   "cell_type": "code",
   "execution_count": null,
   "metadata": {},
   "outputs": [],
   "source": [
    "disp_res.value_counts()"
   ]
  },
  {
   "cell_type": "code",
   "execution_count": null,
   "metadata": {},
   "outputs": [],
   "source": [
    "## this function will help us get disp_height and disp_width columns\n",
    "def disp_res_format(res):\n",
    "    if pd.isna(res):  # Handle NaN values\n",
    "        return None\n",
    "    res = str(res)  # Convert to string if it's not\n",
    "    nums = [int(x) for x in res.split(' x ') if x.isdigit()]\n",
    "    if len(nums) == 2:  # Ensure exactly two numbers\n",
    "        nums.sort(reverse=True)  # Ensure width is first and then height\n",
    "        return f\"{nums[0]} x {nums[1]}\"\n",
    "    return res  # Return original value if needed\n",
    "\n",
    "data['disp_res']=data['disp_res'].apply(disp_res_format)"
   ]
  },
  {
   "cell_type": "code",
   "execution_count": null,
   "metadata": {},
   "outputs": [],
   "source": [
    "data['disp_res']"
   ]
  },
  {
   "cell_type": "code",
   "execution_count": null,
   "metadata": {},
   "outputs": [],
   "source": [
    "## here we can see disp_res has 2 different resolutions that I will manually fix\n",
    "data.loc[493]"
   ]
  },
  {
   "cell_type": "code",
   "execution_count": null,
   "metadata": {},
   "outputs": [],
   "source": [
    "data.loc[493,'disp_res']='800 x 480'"
   ]
  },
  {
   "cell_type": "code",
   "execution_count": null,
   "metadata": {},
   "outputs": [],
   "source": [
    "## creating 2 different columns for display_width and display_height\n",
    "data['display_width']=(\n",
    "    data['disp_res']\n",
    "    .str.replace(r'\\s+', ' ', regex=True)\n",
    "    .str.strip()\n",
    "    .str.split(\"x\").str.get(0)\n",
    ")\n",
    "\n",
    "data['display_height']=(\n",
    "    data['disp_res']\n",
    "    .str.replace(r'\\s+', ' ', regex=True)\n",
    "    .str.strip()\n",
    "    .str.split(\"x\")\n",
    "    .str.get(1)\n",
    ")"
   ]
  },
  {
   "cell_type": "code",
   "execution_count": null,
   "metadata": {},
   "outputs": [],
   "source": [
    "data.drop(columns='disp_res',inplace=True)"
   ]
  },
  {
   "cell_type": "code",
   "execution_count": null,
   "metadata": {},
   "outputs": [],
   "source": [
    "print(data['display_width'].isna().sum())\n",
    "print(data['display_height'].isna().sum())"
   ]
  },
  {
   "cell_type": "code",
   "execution_count": null,
   "metadata": {},
   "outputs": [],
   "source": [
    "data[['display_width','display_height']].head(5)"
   ]
  },
  {
   "cell_type": "markdown",
   "metadata": {},
   "source": [
    "### gpu"
   ]
  },
  {
   "cell_type": "code",
   "execution_count": null,
   "metadata": {},
   "outputs": [],
   "source": [
    "data['gpu'].value_counts()"
   ]
  },
  {
   "cell_type": "code",
   "execution_count": null,
   "metadata": {},
   "outputs": [],
   "source": [
    "## since more than 50% of the column contains null values I will drop this column\n",
    "data['gpu'].isna().sum() / data.shape[0]"
   ]
  },
  {
   "cell_type": "code",
   "execution_count": null,
   "metadata": {},
   "outputs": [],
   "source": [
    "data.drop(columns='gpu',inplace=True)"
   ]
  },
  {
   "cell_type": "markdown",
   "metadata": {},
   "source": [
    "### os_name"
   ]
  },
  {
   "cell_type": "code",
   "execution_count": null,
   "metadata": {},
   "outputs": [],
   "source": [
    "data['os_name'].unique()"
   ]
  },
  {
   "cell_type": "code",
   "execution_count": null,
   "metadata": {},
   "outputs": [],
   "source": [
    "data.os_name.value_counts(dropna=False)"
   ]
  },
  {
   "cell_type": "code",
   "execution_count": null,
   "metadata": {},
   "outputs": [],
   "source": [
    "## os_name values that need to be fixed\n",
    "values_to_inspect=[\n",
    "    1294, 1299, 1302, 1303, 1304, 1313, 1339, 1340, 1342, 1347, 1348,\n",
    "    1354, 1367, 1374, 1380, 1392, 1394, 1400, 1404, 1407, 1442, 1455,\n",
    "    1456, 1460, 1464, 1465, 1467, 1472, 1494, 1496, 1500, 1506, 1508,\n",
    "    1510, 1511, 1514, 1528, 1533, 1542, 1543, 1548, 1550, 1553, 1558,\n",
    "    1559, 1560, 1562, 1570, 1574, 1578, 1581, 1588, 1590, 1591, 1594,\n",
    "    1596, 1604, 1606, 1613, 1665, 1677, 1851, 1856, 1858, 1889, 1890,\n",
    "    1909, 1921, 1923, 1938, 1951, 1959, 1964, 1971, 1990, 1991, 1992,\n",
    "    2190, 2222, 2309, 2347, 2350, 2354, 2359, 2361, 2363, 2561, 2566,\n",
    "    2570, 2574, 2575, 2600, 2601, 2638, 2652, 2653, 2658, 2713, 2714,\n",
    "    2724, 2725, 2860, 2874, 2880, 2884, 2932, 2933, 2934, 2935, 2936,\n",
    "    2937, 2945, 2946, 2949, 2955, 2967, 2974, 2975, 2984, 2985, 2986,\n",
    "    2987, 2989, 2990, 2991, 2995, 3007, 3011, 3012, 3015, 3023, 3027,\n",
    "    3028, 3059, 3060, 3072, 3073, 3084, 3088, 3090, 3093, 3095, 3101,\n",
    "    3120, 3130, 3140, 3171, 3173, 3179, 3190, 3200, 3210, 3212, 3213,\n",
    "    3224, 3229, 3236, 3238, 3241, 3243, 3247, 4707, 5378, 5386, 5394,\n",
    "    6208, 6259, 6286, 6291, 6324, 6335, 6411, 6414, 6416\n",
    "    ]"
   ]
  },
  {
   "cell_type": "code",
   "execution_count": null,
   "metadata": {},
   "outputs": [],
   "source": [
    "len(values_to_inspect)"
   ]
  },
  {
   "cell_type": "code",
   "execution_count": null,
   "metadata": {},
   "outputs": [],
   "source": [
    "temp_df=data.loc[values_to_inspect,:]\n",
    "temp_df['os_name']"
   ]
  },
  {
   "cell_type": "code",
   "execution_count": null,
   "metadata": {},
   "outputs": [],
   "source": [
    "# replacing the values above as other\n",
    "data.loc[temp_df.index,'os_name']='other'"
   ]
  },
  {
   "cell_type": "code",
   "execution_count": null,
   "metadata": {},
   "outputs": [],
   "source": [
    "## replacing all rows that contain android os with lowercase android\n",
    "data.loc[data['os_name'].str.lower().str.strip().str.contains('android', na=False), 'os_name'] = 'android'\n"
   ]
  },
  {
   "cell_type": "code",
   "execution_count": null,
   "metadata": {},
   "outputs": [],
   "source": [
    "## similarly all rows that contain ios os with lowercase ios\n",
    "data.loc[data['os_name'].str.lower().str.strip().str.contains('ios', na=False), 'os_name'] = 'ios'\n"
   ]
  },
  {
   "cell_type": "code",
   "execution_count": null,
   "metadata": {},
   "outputs": [],
   "source": [
    "temp_df=data[data['os_name'].str.lower().str.contains(\"windows\",na=False)]"
   ]
  },
  {
   "cell_type": "code",
   "execution_count": null,
   "metadata": {},
   "outputs": [],
   "source": [
    "data.loc[temp_df.index,'os_name']='windows'"
   ]
  },
  {
   "cell_type": "code",
   "execution_count": null,
   "metadata": {},
   "outputs": [],
   "source": [
    "temp_df=data[~data['os_name'].isin(['android','ios','windows'])]\n",
    "temp_df.index"
   ]
  },
  {
   "cell_type": "code",
   "execution_count": null,
   "metadata": {},
   "outputs": [],
   "source": [
    "data.loc[temp_df.index,'os_name']='other'"
   ]
  },
  {
   "cell_type": "code",
   "execution_count": null,
   "metadata": {},
   "outputs": [],
   "source": [
    "data['os_name'].sample(10)"
   ]
  },
  {
   "cell_type": "code",
   "execution_count": null,
   "metadata": {},
   "outputs": [],
   "source": [
    "data['os_name'].value_counts()"
   ]
  },
  {
   "cell_type": "code",
   "execution_count": null,
   "metadata": {},
   "outputs": [],
   "source": [
    "data.head()"
   ]
  },
  {
   "cell_type": "markdown",
   "metadata": {},
   "source": [
    "### cpu_core"
   ]
  },
  {
   "cell_type": "code",
   "execution_count": null,
   "metadata": {},
   "outputs": [],
   "source": [
    "data.head()"
   ]
  },
  {
   "cell_type": "code",
   "execution_count": null,
   "metadata": {},
   "outputs": [],
   "source": [
    "data['cpu_core'].unique()"
   ]
  },
  {
   "cell_type": "code",
   "execution_count": null,
   "metadata": {},
   "outputs": [],
   "source": [
    "data['cpu_core'].unique()"
   ]
  },
  {
   "cell_type": "code",
   "execution_count": null,
   "metadata": {},
   "outputs": [],
   "source": [
    "data['cpu_core']=data['cpu_core'].str.lower().map(\n",
    "    {\n",
    "        'single core':1,\n",
    "        'octa core':8,\n",
    "        'dual core':2,\n",
    "        'quad core':4,\n",
    "        'hexa core':6,\n",
    "        'deca core':10\n",
    "    }\n",
    ")"
   ]
  },
  {
   "cell_type": "code",
   "execution_count": null,
   "metadata": {},
   "outputs": [],
   "source": [
    "data['cpu_core']=data['cpu_core'].astype(\"float\")"
   ]
  },
  {
   "cell_type": "code",
   "execution_count": null,
   "metadata": {},
   "outputs": [],
   "source": [
    "data['cpu_core'].value_counts(dropna=False)"
   ]
  },
  {
   "cell_type": "markdown",
   "metadata": {},
   "source": [
    "### ram"
   ]
  },
  {
   "cell_type": "code",
   "execution_count": null,
   "metadata": {},
   "outputs": [],
   "source": [
    "data['ram'].sample(10)"
   ]
  },
  {
   "cell_type": "code",
   "execution_count": null,
   "metadata": {},
   "outputs": [],
   "source": [
    "# in the rows below all ram capacity is in MB and I will convert it to GB\n",
    "temp_df=data[data['ram'].str.contains('MB',na=False,case=False)]\n",
    "temp_df.head()"
   ]
  },
  {
   "cell_type": "code",
   "execution_count": null,
   "metadata": {},
   "outputs": [],
   "source": [
    "ram_vals_gb=temp_df['ram'].str.lower().str.replace('MB','',case=False).astype('float')\n",
    "ram_vals_gb=ram_vals_gb.div(1000)"
   ]
  },
  {
   "cell_type": "code",
   "execution_count": null,
   "metadata": {},
   "outputs": [],
   "source": [
    "temp_df['ram']=ram_vals_gb.values"
   ]
  },
  {
   "cell_type": "code",
   "execution_count": null,
   "metadata": {},
   "outputs": [],
   "source": [
    "data.loc[temp_df.index,'ram']=temp_df['ram'].values"
   ]
  },
  {
   "cell_type": "code",
   "execution_count": null,
   "metadata": {},
   "outputs": [],
   "source": [
    "data['ram']=data['ram'].str.lower().str.replace('GB','',case=False)"
   ]
  },
  {
   "cell_type": "code",
   "execution_count": null,
   "metadata": {},
   "outputs": [],
   "source": [
    "data['ram'].value_counts(dropna=False)"
   ]
  },
  {
   "cell_type": "code",
   "execution_count": null,
   "metadata": {},
   "outputs": [],
   "source": [
    "data['ram']=data['ram'].astype(\"float\")"
   ]
  },
  {
   "cell_type": "markdown",
   "metadata": {},
   "source": [
    "### storage_int"
   ]
  },
  {
   "cell_type": "code",
   "execution_count": null,
   "metadata": {},
   "outputs": [],
   "source": [
    "data['storage_int'].sample(10)"
   ]
  },
  {
   "cell_type": "code",
   "execution_count": null,
   "metadata": {},
   "outputs": [],
   "source": [
    "# these smartphones have internal storage in MB and I will convert them to GB\n",
    "temp_df=(\n",
    "    data[\n",
    "        data['storage_int']\n",
    "        .str.contains('MB',case=False,na=False)\n",
    "        ]\n",
    ")\n",
    "temp_df.head()"
   ]
  },
  {
   "cell_type": "code",
   "execution_count": null,
   "metadata": {},
   "outputs": [],
   "source": [
    "temp_df.loc[[6332],'storage_int']"
   ]
  },
  {
   "cell_type": "code",
   "execution_count": null,
   "metadata": {},
   "outputs": [],
   "source": [
    "import numpy as np\n",
    "temp_df.loc[[6332],'storage_int']=np.nan"
   ]
  },
  {
   "cell_type": "code",
   "execution_count": null,
   "metadata": {},
   "outputs": [],
   "source": [
    "temp_df['storage_int']=(\n",
    "    temp_df['storage_int']\n",
    "    .str.replace('MB','',case=False)\n",
    "    .str.strip().astype('float').div(1000)\n",
    "    .astype('str')\n",
    ")"
   ]
  },
  {
   "cell_type": "code",
   "execution_count": null,
   "metadata": {},
   "outputs": [],
   "source": [
    "data.loc[temp_df.index,'storage_int']=temp_df['storage_int'].values"
   ]
  },
  {
   "cell_type": "code",
   "execution_count": null,
   "metadata": {},
   "outputs": [],
   "source": [
    "tb_storage=(\n",
    "    data[\n",
    "        data['storage_int']\n",
    "        .str.contains('TB',case=False,na=False)\n",
    "        ]\n",
    ")\n",
    "tb_storage"
   ]
  },
  {
   "cell_type": "code",
   "execution_count": null,
   "metadata": {},
   "outputs": [],
   "source": [
    "tb_storage['storage_int']=(\n",
    "    tb_storage['storage_int']\n",
    "    .str.replace('TB','',case=False)\n",
    "    .astype('int')\n",
    "    .multiply(1000)\n",
    "    .astype('str')\n",
    ")"
   ]
  },
  {
   "cell_type": "code",
   "execution_count": null,
   "metadata": {},
   "outputs": [],
   "source": [
    "tb_storage"
   ]
  },
  {
   "cell_type": "code",
   "execution_count": null,
   "metadata": {},
   "outputs": [],
   "source": [
    "data.loc[tb_storage.index,'storage_int']=tb_storage['storage_int'].values"
   ]
  },
  {
   "cell_type": "code",
   "execution_count": null,
   "metadata": {},
   "outputs": [],
   "source": [
    "tb_storage['storage_int'].values"
   ]
  },
  {
   "cell_type": "code",
   "execution_count": null,
   "metadata": {},
   "outputs": [],
   "source": [
    "kb_storage_index=(\n",
    "    data[\n",
    "        data['storage_int']\n",
    "        .str.contains('KB',case=False,na=False)]\n",
    "        .index\n",
    ")"
   ]
  },
  {
   "cell_type": "code",
   "execution_count": null,
   "metadata": {},
   "outputs": [],
   "source": [
    "data.loc[kb_storage_index,'storage_int']=np.nan"
   ]
  },
  {
   "cell_type": "code",
   "execution_count": null,
   "metadata": {},
   "outputs": [],
   "source": [
    "temp_df=data[data['storage_int'].isin(['32+3 GB', '16 GB/8 GB','64GB GB'])]\n",
    "temp_df"
   ]
  },
  {
   "cell_type": "code",
   "execution_count": null,
   "metadata": {},
   "outputs": [],
   "source": [
    "temp_df.loc[1794,'storage_int']='16 GB'"
   ]
  },
  {
   "cell_type": "code",
   "execution_count": null,
   "metadata": {},
   "outputs": [],
   "source": [
    "temp_df.loc[2508,'storage_int']='64 GB'"
   ]
  },
  {
   "cell_type": "code",
   "execution_count": null,
   "metadata": {},
   "outputs": [],
   "source": [
    "temp_df.loc[[6483,6503],'storage_int']='32 GB'"
   ]
  },
  {
   "cell_type": "code",
   "execution_count": null,
   "metadata": {},
   "outputs": [],
   "source": [
    "data.loc[temp_df.index,'storage_int']=temp_df['storage_int'].values"
   ]
  },
  {
   "cell_type": "code",
   "execution_count": null,
   "metadata": {},
   "outputs": [],
   "source": [
    "data['internal_storage_gb']=(\n",
    "    data['storage_int']\n",
    "    .str.replace('GB','',case=False)\n",
    "    .astype('float')\n",
    ")"
   ]
  },
  {
   "cell_type": "code",
   "execution_count": null,
   "metadata": {},
   "outputs": [],
   "source": [
    "data['internal_storage_gb']=data['internal_storage_gb'].astype(\"float\")"
   ]
  },
  {
   "cell_type": "code",
   "execution_count": null,
   "metadata": {},
   "outputs": [],
   "source": [
    "vals=data['internal_storage_gb'].value_counts(dropna=False,ascending=False)\n",
    "vals"
   ]
  },
  {
   "cell_type": "code",
   "execution_count": null,
   "metadata": {},
   "outputs": [],
   "source": [
    "data.drop(columns=['storage_int'],inplace=True)"
   ]
  },
  {
   "cell_type": "markdown",
   "metadata": {},
   "source": [
    "### high_refresh_rate"
   ]
  },
  {
   "cell_type": "code",
   "execution_count": null,
   "metadata": {},
   "outputs": [],
   "source": [
    "data['disp_feat']"
   ]
  },
  {
   "cell_type": "code",
   "execution_count": null,
   "metadata": {},
   "outputs": [],
   "source": [
    "## adding a new column high refrsh rate from disp_feat columns that contains the word high refresh rate or 120 hz or pro motion as used \n",
    "# by apple\n",
    "data['high_refresh_rate']=(\n",
    "    data['disp_feat']\n",
    "    .str.contains(r'\\b(high refresh rate|120\\s*hz|pro\\s*motion)\\b', case=False, na=False)\n",
    "    .astype(\"int\")\n",
    "    )\n"
   ]
  },
  {
   "cell_type": "code",
   "execution_count": null,
   "metadata": {},
   "outputs": [],
   "source": [
    "data['high_refresh_rate'].value_counts(dropna=False,ascending=False)"
   ]
  },
  {
   "cell_type": "code",
   "execution_count": null,
   "metadata": {},
   "outputs": [],
   "source": [
    "data.drop(columns=['disp_feat'],axis=1,inplace=True)"
   ]
  },
  {
   "cell_type": "code",
   "execution_count": null,
   "metadata": {},
   "outputs": [],
   "source": [
    "data.head()"
   ]
  },
  {
   "cell_type": "markdown",
   "metadata": {},
   "source": [
    "### cam_prim"
   ]
  },
  {
   "cell_type": "code",
   "execution_count": null,
   "metadata": {},
   "outputs": [],
   "source": [
    "data['cam_prim'].sample(10)"
   ]
  },
  {
   "cell_type": "code",
   "execution_count": null,
   "metadata": {},
   "outputs": [],
   "source": [
    "rear_cameras=(\n",
    "    data['cam_prim']\n",
    "    .str.lower()\n",
    "    .str.replace(r'[^0-9+mp]','',regex=True)\n",
    "    .str.split(\"+\")\n",
    ")"
   ]
  },
  {
   "cell_type": "code",
   "execution_count": null,
   "metadata": {},
   "outputs": [],
   "source": [
    "rear_cameras"
   ]
  },
  {
   "cell_type": "code",
   "execution_count": null,
   "metadata": {},
   "outputs": [],
   "source": [
    "rear_cameras=(\n",
    "    data['cam_prim']\n",
    "    .str.strip() # removes extra spaces\n",
    "    .str.replace(r'[^0-9+MP]', '', regex=True) # removes all non MP characters as needed\n",
    "    .str.findall(r'\\d+MP') # only finds items containing MPs\n",
    ")\n",
    "rear_cameras"
   ]
  },
  {
   "cell_type": "code",
   "execution_count": null,
   "metadata": {},
   "outputs": [],
   "source": [
    "data[\"rear_primary\"]=(\n",
    "    rear_cameras\n",
    "    .str.get(0)\n",
    "    .str.lower()\n",
    "    .str.strip()\n",
    "    .str.replace('mp','')\n",
    ")"
   ]
  },
  {
   "cell_type": "code",
   "execution_count": null,
   "metadata": {},
   "outputs": [],
   "source": [
    "data['rear_primary']=data['rear_primary'].astype('float')"
   ]
  },
  {
   "cell_type": "code",
   "execution_count": null,
   "metadata": {},
   "outputs": [],
   "source": [
    "data['rear_primary'].value_counts(dropna=False)"
   ]
  },
  {
   "cell_type": "code",
   "execution_count": null,
   "metadata": {},
   "outputs": [],
   "source": [
    "data.drop(columns=['cam_prim'],inplace=True)"
   ]
  },
  {
   "cell_type": "code",
   "execution_count": null,
   "metadata": {},
   "outputs": [],
   "source": [
    "data.head()"
   ]
  },
  {
   "cell_type": "markdown",
   "metadata": {},
   "source": [
    "### cam_secd"
   ]
  },
  {
   "cell_type": "code",
   "execution_count": null,
   "metadata": {},
   "outputs": [],
   "source": [
    "data['cam_secd']"
   ]
  },
  {
   "cell_type": "code",
   "execution_count": null,
   "metadata": {},
   "outputs": [],
   "source": [
    "## this regex pattern will exteract one or more digits followed by MP\n",
    "data['front_camera_res_mp']=data['cam_secd'].str.strip().str.extract(r'(\\d+MP)')"
   ]
  },
  {
   "cell_type": "code",
   "execution_count": null,
   "metadata": {},
   "outputs": [],
   "source": [
    "## we remo the 'MP' str from front camera resolution\n",
    "data['front_camera_res_mp']=data['front_camera_res_mp'].str.replace('MP','')\n",
    "data['front_camera_res_mp']"
   ]
  },
  {
   "cell_type": "code",
   "execution_count": null,
   "metadata": {},
   "outputs": [],
   "source": [
    "data['front_camera_res_mp']=data['front_camera_res_mp'].astype('float')\n",
    "data['front_camera_res_mp']"
   ]
  },
  {
   "cell_type": "code",
   "execution_count": null,
   "metadata": {},
   "outputs": [],
   "source": [
    "data['front_camera_res_mp'].value_counts(dropna=False,ascending=False)"
   ]
  },
  {
   "cell_type": "code",
   "execution_count": null,
   "metadata": {},
   "outputs": [],
   "source": [
    "## since most smartphones have HD video recording I will drop these columns\n",
    "data.drop(columns=['cam_secd','recd_hd','rec_fhd'],inplace=True)"
   ]
  },
  {
   "cell_type": "code",
   "execution_count": null,
   "metadata": {},
   "outputs": [],
   "source": [
    "data.head()"
   ]
  },
  {
   "cell_type": "markdown",
   "metadata": {},
   "source": [
    "### rec_vid_res"
   ]
  },
  {
   "cell_type": "code",
   "execution_count": null,
   "metadata": {},
   "outputs": [],
   "source": [
    "data['rec_vid_res'].sample(10)"
   ]
  },
  {
   "cell_type": "code",
   "execution_count": null,
   "metadata": {},
   "outputs": [],
   "source": [
    "data['rec_vid_res'].isna().sum()"
   ]
  },
  {
   "cell_type": "code",
   "execution_count": null,
   "metadata": {},
   "outputs": [],
   "source": [
    "search_4k=['3840x2160 pixels','3840x2160','4k','2160p','uhd','Ultra HD']\n",
    "fhd_search=['1920x1080','1080p','fhd','1080','1920 x 1080 Pixels','1080 x 1920']\n",
    "rec_8k=['8K','7680 x 4320 pixel']\n",
    "\n",
    "# creating a search patter for 4k and 8k video recording to see if it can impact smartphone pricing\n",
    "search_4k_pattern=\"|\".join(search_4k)\n",
    "search_8k_pattern='|'.join(rec_8k)\n",
    "fhd_search_pattern = '|'.join(fhd_search)"
   ]
  },
  {
   "cell_type": "code",
   "execution_count": null,
   "metadata": {},
   "outputs": [],
   "source": [
    "data['vid_rec_res_max']=(\n",
    "    np.where(\n",
    "        data['rec_vid_res'].str.contains(search_8k_pattern, case=False, na=False), '8K',\n",
    "        np.where(\n",
    "        data['rec_vid_res'].str.contains(search_4k_pattern, case=False, na=False), '4K',\n",
    "        np.where(\n",
    "        data['rec_vid_res'].str.contains(fhd_search_pattern, case=False, na=False), 'FHD', np.nan\n",
    "        )\n",
    "        )\n",
    "        )\n",
    ")"
   ]
  },
  {
   "cell_type": "code",
   "execution_count": null,
   "metadata": {},
   "outputs": [],
   "source": [
    "data['vid_rec_res_max'].value_counts(dropna=False)"
   ]
  },
  {
   "cell_type": "code",
   "execution_count": null,
   "metadata": {},
   "outputs": [],
   "source": [
    "data.drop(columns=['rec_vid_res'],inplace=True)"
   ]
  },
  {
   "cell_type": "markdown",
   "metadata": {},
   "source": [
    "### networks"
   ]
  },
  {
   "cell_type": "code",
   "execution_count": null,
   "metadata": {},
   "outputs": [],
   "source": [
    "data['networks']"
   ]
  },
  {
   "cell_type": "code",
   "execution_count": null,
   "metadata": {},
   "outputs": [],
   "source": [
    "## if a smartphone is 5G capable then we enter 1 else 0\n",
    "data['5g_capable']=(\n",
    "    data['networks']\n",
    "    .str.contains('5G',na=False,case=False)\n",
    "    .map(\n",
    "    {\n",
    "        True: 1,\n",
    "        False:0\n",
    "    }\n",
    "    )\n",
    ").astype('int')"
   ]
  },
  {
   "cell_type": "code",
   "execution_count": null,
   "metadata": {},
   "outputs": [],
   "source": [
    "data.drop(columns=['networks','bluetooth','wifi'],inplace=True)"
   ]
  },
  {
   "cell_type": "code",
   "execution_count": null,
   "metadata": {},
   "outputs": [],
   "source": [
    "data.head()"
   ]
  },
  {
   "cell_type": "code",
   "execution_count": null,
   "metadata": {},
   "outputs": [],
   "source": [
    "data['5g_capable'].value_counts(dropna=False)"
   ]
  },
  {
   "cell_type": "code",
   "execution_count": null,
   "metadata": {},
   "outputs": [],
   "source": [
    "data['5g_capable']=data['5g_capable'].astype(\"int\")"
   ]
  },
  {
   "cell_type": "markdown",
   "metadata": {},
   "source": [
    "### nfc"
   ]
  },
  {
   "cell_type": "code",
   "execution_count": null,
   "metadata": {},
   "outputs": [],
   "source": [
    "## some random values present in column besides yes, no or missing that we need to clean\n",
    "data['nfc'].value_counts()"
   ]
  },
  {
   "cell_type": "code",
   "execution_count": null,
   "metadata": {},
   "outputs": [],
   "source": [
    "data.nfc.unique()"
   ]
  },
  {
   "cell_type": "code",
   "execution_count": null,
   "metadata": {},
   "outputs": [],
   "source": [
    "# creating a list of values in NFC column thats not na, yes or no so that I can correct them if needed\n",
    "unique_values = data['nfc'].dropna().unique()  # Get unique values excluding na\n",
    "filtered_values = [val for val in unique_values if val not in ['Yes', 'No']]\n",
    "temp_df=data[data['nfc'].isin(filtered_values)]\n",
    "temp_df"
   ]
  },
  {
   "cell_type": "code",
   "execution_count": null,
   "metadata": {},
   "outputs": [],
   "source": [
    "## if nfc word is present I label them as Ye\n",
    "temp_df.loc[temp_df['nfc'].str.contains('NFC',na=False,case=False),'nfc']='Yes'"
   ]
  },
  {
   "cell_type": "code",
   "execution_count": null,
   "metadata": {},
   "outputs": [],
   "source": [
    "# replacing values entered above in data from temp_df\n",
    "data.loc[temp_df.index,'nfc']=temp_df['nfc'].values"
   ]
  },
  {
   "cell_type": "code",
   "execution_count": null,
   "metadata": {},
   "outputs": [],
   "source": [
    "## Verifying to see if the above commands have worked\n",
    "data['nfc'].unique()"
   ]
  },
  {
   "cell_type": "code",
   "execution_count": null,
   "metadata": {},
   "outputs": [],
   "source": [
    "data['nfc']=data['nfc'].map(\n",
    "    {\n",
    "        'No':0,\n",
    "        'Yes':1\n",
    "    }\n",
    ").astype('float')"
   ]
  },
  {
   "cell_type": "code",
   "execution_count": null,
   "metadata": {},
   "outputs": [],
   "source": [
    "data['nfc'].value_counts(dropna=False)"
   ]
  },
  {
   "cell_type": "markdown",
   "metadata": {},
   "source": [
    "### headphone jack"
   ]
  },
  {
   "cell_type": "code",
   "execution_count": null,
   "metadata": {},
   "outputs": [],
   "source": [
    "data['jack'].sample(10)"
   ]
  },
  {
   "cell_type": "code",
   "execution_count": null,
   "metadata": {},
   "outputs": [],
   "source": [
    "data['jack'].unique()"
   ]
  },
  {
   "cell_type": "code",
   "execution_count": null,
   "metadata": {},
   "outputs": [],
   "source": [
    "jack_vals=data['jack'].dropna().unique()\n",
    "vals_filtered=[val for val in jack_vals if val not in [\n",
    "    '3.5 mm', '3.5 MM','Yes','yes','YES','3.5mm Jack',\n",
    "    '3.5 MM Jack', '3.5 mm jack','3.5 mm Audio jack','3.55 MM','3.55MM','Yes, 3.5mm', '3.5mm',\n",
    "    '3.5','3.5MM','3.5mm Stereo Headset Connector','3.5 mm Stereo' '3.5MM STEREO','3.5mm jack',\n",
    "    '3.5MM STEREO', '3.5 mm Stereo', 'no','No'\n",
    "    ]\n",
    "    ]\n",
    "temp_df=data[data['jack'].isin(vals_filtered)]\n",
    "temp_df.head()"
   ]
  },
  {
   "cell_type": "code",
   "execution_count": null,
   "metadata": {},
   "outputs": [],
   "source": [
    "## these phones dont have a separate headphone jack so I put no\n",
    "temp_df.loc[:,'jack']='no'"
   ]
  },
  {
   "cell_type": "code",
   "execution_count": null,
   "metadata": {},
   "outputs": [],
   "source": [
    "temp_df.head()"
   ]
  },
  {
   "cell_type": "code",
   "execution_count": null,
   "metadata": {},
   "outputs": [],
   "source": [
    "## replacing the same rows in dataframe \n",
    "data.loc[temp_df.index,'jack']=temp_df['jack'].values"
   ]
  },
  {
   "cell_type": "code",
   "execution_count": null,
   "metadata": {},
   "outputs": [],
   "source": [
    "# if value is not na or in temp_df.index then all rows are labelled as yes for headphone jack\n",
    "jack_missing_index=set(data[data['jack'].isna()].index)\n",
    "jack_present_index=list(set(data.index).difference(set(temp_df.index)) - jack_missing_index)\n",
    "data.loc[jack_present_index,'jack']='yes'"
   ]
  },
  {
   "cell_type": "code",
   "execution_count": null,
   "metadata": {},
   "outputs": [],
   "source": [
    "data['jack'].value_counts(dropna=False)"
   ]
  },
  {
   "cell_type": "code",
   "execution_count": null,
   "metadata": {},
   "outputs": [],
   "source": [
    "## verifying na vales +plus jack present values + values we manually corrected equal data len\n",
    "len(jack_missing_index) + len(jack_present_index) + len(temp_df)"
   ]
  },
  {
   "cell_type": "code",
   "execution_count": null,
   "metadata": {},
   "outputs": [],
   "source": [
    "data['jack']=data['jack'].map(\n",
    "    {\n",
    "        'yes':1,\n",
    "        'no':0\n",
    "    }\n",
    ").astype('float')"
   ]
  },
  {
   "cell_type": "code",
   "execution_count": null,
   "metadata": {},
   "outputs": [],
   "source": [
    "data['jack'].value_counts(dropna=False)"
   ]
  },
  {
   "cell_type": "markdown",
   "metadata": {},
   "source": [
    "### bat_cap"
   ]
  },
  {
   "cell_type": "code",
   "execution_count": null,
   "metadata": {},
   "outputs": [],
   "source": [
    "data['bat_cap'].sample(10)"
   ]
  },
  {
   "cell_type": "code",
   "execution_count": null,
   "metadata": {},
   "outputs": [],
   "source": [
    "data.head()"
   ]
  },
  {
   "cell_type": "code",
   "execution_count": null,
   "metadata": {},
   "outputs": [],
   "source": [
    "data['bat_cap'].value_counts()"
   ]
  },
  {
   "cell_type": "code",
   "execution_count": null,
   "metadata": {},
   "outputs": [],
   "source": [
    "## extacting number value for battery capacity\n",
    "data['battery_capacity_mah']=(\n",
    "    data['bat_cap']\n",
    "    .str.lower()\n",
    "    .str.strip()\n",
    "    .str.split(\" \")\n",
    "    .str.get(0)\n",
    ")\n",
    "data.drop(columns=['bat_cap'],axis=1,inplace=True)"
   ]
  },
  {
   "cell_type": "code",
   "execution_count": null,
   "metadata": {},
   "outputs": [],
   "source": [
    "data['battery_capacity_mah']=data['battery_capacity_mah'].astype('float')"
   ]
  },
  {
   "cell_type": "code",
   "execution_count": null,
   "metadata": {},
   "outputs": [],
   "source": [
    "data['battery_capacity_mah'].value_counts(dropna=False)"
   ]
  },
  {
   "cell_type": "code",
   "execution_count": null,
   "metadata": {},
   "outputs": [],
   "source": [
    "data['battery_capacity_mah'].value_counts(dropna=False).sort_values(ascending=False)"
   ]
  },
  {
   "cell_type": "markdown",
   "metadata": {},
   "source": [
    "### dim_weight"
   ]
  },
  {
   "cell_type": "code",
   "execution_count": null,
   "metadata": {},
   "outputs": [],
   "source": [
    "data['dim_weight'].sample(10)"
   ]
  },
  {
   "cell_type": "code",
   "execution_count": null,
   "metadata": {},
   "outputs": [],
   "source": [
    "## this is a list of values I found that need to be fixed\n",
    "vals=[ 521,524,641,657,658,1040,1366,1977,2269,3023,3028,3031]"
   ]
  },
  {
   "cell_type": "code",
   "execution_count": null,
   "metadata": {},
   "outputs": [],
   "source": [
    "data.loc[vals,'dim_weight']"
   ]
  },
  {
   "cell_type": "code",
   "execution_count": null,
   "metadata": {},
   "outputs": [],
   "source": [
    "data.loc[[2281,2340],'dim_weight']=np.nan"
   ]
  },
  {
   "cell_type": "code",
   "execution_count": null,
   "metadata": {},
   "outputs": [],
   "source": [
    "data.loc[[2281,2340],'dim_weight']=np.nan"
   ]
  },
  {
   "cell_type": "code",
   "execution_count": null,
   "metadata": {},
   "outputs": [],
   "source": [
    "## these rows contained weight as 0.45 kg so I replaced them with 450 g for consistency\n",
    "data.loc[[4928, 4934, 4935, 4937],'dim_weight']='450 g'"
   ]
  },
  {
   "cell_type": "code",
   "execution_count": null,
   "metadata": {},
   "outputs": [],
   "source": [
    "temp_df=data.loc[vals,:]\n",
    "temp_df"
   ]
  },
  {
   "cell_type": "code",
   "execution_count": null,
   "metadata": {},
   "outputs": [],
   "source": [
    "temp_df.loc[[1366],'dim_weight']=156"
   ]
  },
  {
   "cell_type": "code",
   "execution_count": null,
   "metadata": {},
   "outputs": [],
   "source": [
    "temp_df.loc[[1040],'dim_weight']"
   ]
  },
  {
   "cell_type": "code",
   "execution_count": null,
   "metadata": {},
   "outputs": [],
   "source": [
    "weights=temp_df.loc[[521,524,641,657,658],'dim_weight']\n",
    "weights"
   ]
  },
  {
   "cell_type": "code",
   "execution_count": null,
   "metadata": {},
   "outputs": [],
   "source": [
    "def extract_weight(value):\n",
    "    parts = value.split(\",\")  # Split by commas\n",
    "    for part in parts:\n",
    "        if \"Weight\" in part:  # Find the section with 'Weight'\n",
    "            return part.split(\":\")[-1].strip().split(\" (\")[0]  # Extract \"160 g\" and remove extra text\n",
    "    return None  # Return None if no weight found\n",
    "\n",
    "weights_updated=weights.apply(extract_weight)\n",
    "weights_updated"
   ]
  },
  {
   "cell_type": "code",
   "execution_count": null,
   "metadata": {},
   "outputs": [],
   "source": [
    "temp_df.loc[[521,524,641,657,658],'dim_weight']=weights_updated.values"
   ]
  },
  {
   "cell_type": "code",
   "execution_count": null,
   "metadata": {},
   "outputs": [],
   "source": [
    "temp_df.loc[[1977,2269,3023,3028,3031],'dim_weight']=np.nan"
   ]
  },
  {
   "cell_type": "code",
   "execution_count": null,
   "metadata": {},
   "outputs": [],
   "source": [
    "data.loc[temp_df.index,'dim_weight']=temp_df['dim_weight'].values"
   ]
  },
  {
   "cell_type": "code",
   "execution_count": null,
   "metadata": {},
   "outputs": [],
   "source": [
    "data.loc[[1040],'dim_weight']=192"
   ]
  },
  {
   "cell_type": "code",
   "execution_count": null,
   "metadata": {},
   "outputs": [],
   "source": [
    "data.loc[[4734],'dim_weight']='174 g'"
   ]
  },
  {
   "cell_type": "code",
   "execution_count": null,
   "metadata": {},
   "outputs": [],
   "source": [
    "# verifying that we correctly replaced the dim_weight with temp_df values above\n",
    "data.loc[temp_df.index,'dim_weight']"
   ]
  },
  {
   "cell_type": "code",
   "execution_count": null,
   "metadata": {},
   "outputs": [],
   "source": [
    "data.loc[[6732, 6904],'dim_weight']='185.5 g'"
   ]
  },
  {
   "cell_type": "code",
   "execution_count": null,
   "metadata": {},
   "outputs": [],
   "source": [
    "data.loc[[4794],'dim_weight']='511 g'"
   ]
  },
  {
   "cell_type": "code",
   "execution_count": null,
   "metadata": {},
   "outputs": [],
   "source": [
    "data['dim_weight']=(\n",
    "    data['dim_weight']\n",
    "    .str.strip()\n",
    "    .str.lower()\n",
    "    .str.replace('g','')\n",
    ")"
   ]
  },
  {
   "cell_type": "code",
   "execution_count": null,
   "metadata": {},
   "outputs": [],
   "source": [
    "data['dim_weight']=data['dim_weight'].astype(\"float\")"
   ]
  },
  {
   "cell_type": "code",
   "execution_count": null,
   "metadata": {},
   "outputs": [],
   "source": [
    "data['dim_weight'].value_counts(dropna=False)"
   ]
  },
  {
   "cell_type": "markdown",
   "metadata": {},
   "source": [
    "### brand"
   ]
  },
  {
   "cell_type": "code",
   "execution_count": null,
   "metadata": {},
   "outputs": [],
   "source": [
    "data['brand']=data['brand'].str.lower()"
   ]
  },
  {
   "cell_type": "code",
   "execution_count": null,
   "metadata": {},
   "outputs": [],
   "source": [
    "## if we drop rows with na values our dataset only have 6 rows left out of 6911\n",
    "print(data.dropna().shape)\n",
    "print(data.shape)"
   ]
  },
  {
   "cell_type": "markdown",
   "metadata": {},
   "source": [
    "## Data Report"
   ]
  },
  {
   "cell_type": "code",
   "execution_count": null,
   "metadata": {},
   "outputs": [],
   "source": [
    "plot_missing(data)"
   ]
  },
  {
   "cell_type": "code",
   "execution_count": null,
   "metadata": {},
   "outputs": [],
   "source": [
    "# Data Preprocessing\n",
    "data.info()"
   ]
  },
  {
   "cell_type": "code",
   "execution_count": null,
   "metadata": {},
   "outputs": [],
   "source": [
    "data.to_csv('smartphone_data_cleaned.csv',index=False)"
   ]
  }
 ],
 "metadata": {
  "kernelspec": {
   "display_name": "smartphone_analysis",
   "language": "python",
   "name": "python3"
  },
  "language_info": {
   "codemirror_mode": {
    "name": "ipython",
    "version": 3
   },
   "file_extension": ".py",
   "mimetype": "text/x-python",
   "name": "python",
   "nbconvert_exporter": "python",
   "pygments_lexer": "ipython3",
   "version": "3.9.21"
  }
 },
 "nbformat": 4,
 "nbformat_minor": 2
}
